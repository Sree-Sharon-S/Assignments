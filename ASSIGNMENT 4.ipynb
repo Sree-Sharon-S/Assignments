{
 "cells": [
  {
   "cell_type": "markdown",
   "id": "10b532ea",
   "metadata": {},
   "source": [
    "# ASSIGNMENT 4"
   ]
  },
  {
   "cell_type": "raw",
   "id": "1c153fe8",
   "metadata": {},
   "source": [
    "1. What exactly is []?\n",
    " It is a set of parenthesis used for indexing. It can also denote an empty list.\n"
   ]
  },
  {
   "cell_type": "raw",
   "id": "6f0c9fa2",
   "metadata": {},
   "source": [
    "2. In a list of values stored in a variable called spam, how would you assign the value 'hello' as the\n",
    "third value? (Assume [2, 4, 6, 8, 10] are in spam.)\n",
    "\n",
    "spam = [2,4,6,8,10]\n",
    "spam[2] = \"hello\""
   ]
  },
  {
   "cell_type": "markdown",
   "id": "a734797c",
   "metadata": {},
   "source": [
    "Let's pretend the spam includes the list ['a', 'b', 'c', 'd'] for the next three queries."
   ]
  },
  {
   "cell_type": "raw",
   "id": "2cff0f32",
   "metadata": {},
   "source": [
    "3. What is the value of spam[int(int('3' * 2) / 11)]?\n",
    "\n",
    "ans: \"d\""
   ]
  },
  {
   "cell_type": "raw",
   "id": "4e69a95a",
   "metadata": {},
   "source": [
    "4. What is the value of spam[-1]?\n",
    "\n",
    "ans: \"e\""
   ]
  },
  {
   "cell_type": "raw",
   "id": "f4b656ae",
   "metadata": {},
   "source": [
    "5. What is the value of spam[:2]?\n",
    "\n",
    "ans: ['a', 'b']\n"
   ]
  },
  {
   "cell_type": "markdown",
   "id": "ba1e169f",
   "metadata": {},
   "source": [
    "Let's pretend bacon has the list [3.14, 'cat,' 11, 'cat,' True] for the next three questions."
   ]
  },
  {
   "cell_type": "raw",
   "id": "7ba147d4",
   "metadata": {},
   "source": [
    "6. What is the value of bacon.index('cat')?\n",
    "\n",
    "ans: 1"
   ]
  },
  {
   "cell_type": "raw",
   "id": "be5fd9dd",
   "metadata": {},
   "source": [
    "7. How does bacon.append(99) change the look of the list value in bacon?\n",
    "\n",
    "[3.14, 'cat', 11, 'cat' , True, 99]"
   ]
  },
  {
   "cell_type": "raw",
   "id": "f546773c",
   "metadata": {},
   "source": [
    "8. How does bacon.remove('cat') change the look of the list in bacon?\n",
    "\n",
    "[3.14,  11, 'cat' , True] "
   ]
  },
  {
   "cell_type": "raw",
   "id": "54ca6e4f",
   "metadata": {},
   "source": [
    "9. What are the list concatenation and list replication operators?\n",
    "\n",
    "The + symbol concatenates two lists in the same order\n",
    "The * symbol replicates the list the specified times\n",
    "\n",
    "spam + bacon\n",
    "['a', 'b', 'c', 'd', 'e', 3.14, 11, 'cat', True]\n",
    "\n",
    "bacon * 3\n",
    "[3.14, 11, 'cat', True, 3.14, 11, 'cat', True, 3.14, 11, 'cat', True]"
   ]
  },
  {
   "cell_type": "raw",
   "id": "adad5a6f",
   "metadata": {},
   "source": [
    "10. What is difference between the list methods append() and insert()?\n",
    "append() method adds the value at the end of the list and updates the list\n",
    "insert() method inserts the value at the specified index of the list"
   ]
  },
  {
   "cell_type": "raw",
   "id": "dbff5179",
   "metadata": {},
   "source": [
    "11. What are the two methods for removing items from a list?\n",
    " remove() method removes an object from the list.\n",
    " pop() method removes the final item of the list.\n",
    " "
   ]
  },
  {
   "cell_type": "raw",
   "id": "525e13cb",
   "metadata": {},
   "source": [
    "12. Describe how list values and string values are identical.\n",
    "List and string values are identical in a way that the objects in the list are indexed individually similar to the chanracters in the string. \n",
    "\n",
    "Lists can be concatenated with a + symbol, so can be the strings.\n",
    "\n"
   ]
  },
  {
   "cell_type": "raw",
   "id": "fd0e127c",
   "metadata": {},
   "source": [
    "13. What's the difference between tuples and lists?\n",
    "Tuples are immutable. Lists are mutable."
   ]
  },
  {
   "cell_type": "raw",
   "id": "d9239387",
   "metadata": {},
   "source": [
    "14. How do you type a tuple value that only contains the integer 42?\n",
    "tup = (42,) "
   ]
  },
  {
   "cell_type": "raw",
   "id": "f392cd60",
   "metadata": {},
   "source": [
    "15. How do you get a list value's tuple form? How do you get a tuple value's list form?\n",
    "  By using a tuple() method, we can convert a list into tuple.\n",
    "  By using a list() method, we can cpnvert a tuple into a list"
   ]
  },
  {
   "cell_type": "raw",
   "id": "a817f7c9",
   "metadata": {},
   "source": [
    "16. Variables that \"contain\" list values are not necessarily lists themselves. Instead, what do they\n",
    "contain?\n",
    " \n",
    " The contain references to the list, not the list of values."
   ]
  },
  {
   "cell_type": "raw",
   "id": "def655e9",
   "metadata": {},
   "source": [
    "17. How do you distinguish between copy.copy() and copy.deepcopy()?\n",
    "\n",
    "in deepcopy() any changes made to the copy does not show up in the original item.\n",
    "in copy() any changes made to the copy does affect the original item."
   ]
  },
  {
   "cell_type": "markdown",
   "id": "7c6dc880",
   "metadata": {},
   "source": [
    "# ROUGH WORK"
   ]
  },
  {
   "cell_type": "code",
   "execution_count": 1,
   "id": "e141a5e7",
   "metadata": {},
   "outputs": [],
   "source": [
    "spam = [2,4,6,8,10]\n",
    "spam[3] = 'helo'"
   ]
  },
  {
   "cell_type": "code",
   "execution_count": 2,
   "id": "3103d48f",
   "metadata": {},
   "outputs": [
    {
     "data": {
      "text/plain": [
       "[2, 4, 6, 'helo', 10]"
      ]
     },
     "execution_count": 2,
     "metadata": {},
     "output_type": "execute_result"
    }
   ],
   "source": [
    "spam\n"
   ]
  },
  {
   "cell_type": "code",
   "execution_count": 5,
   "id": "e94708f2",
   "metadata": {},
   "outputs": [
    {
     "data": {
      "text/plain": [
       "'e'"
      ]
     },
     "execution_count": 5,
     "metadata": {},
     "output_type": "execute_result"
    }
   ],
   "source": [
    "spam = ['a', 'b', 'c', 'd', 'e']\n",
    "\n",
    "spam[-1]"
   ]
  },
  {
   "cell_type": "code",
   "execution_count": 6,
   "id": "53e41c69",
   "metadata": {},
   "outputs": [
    {
     "data": {
      "text/plain": [
       "['a', 'b']"
      ]
     },
     "execution_count": 6,
     "metadata": {},
     "output_type": "execute_result"
    }
   ],
   "source": [
    "spam[:2]"
   ]
  },
  {
   "cell_type": "code",
   "execution_count": 8,
   "id": "aa1dfda5",
   "metadata": {},
   "outputs": [],
   "source": [
    "bacon = [3.14, 'cat', 11, 'cat', True] "
   ]
  },
  {
   "cell_type": "code",
   "execution_count": 9,
   "id": "0e482818",
   "metadata": {},
   "outputs": [
    {
     "data": {
      "text/plain": [
       "1"
      ]
     },
     "execution_count": 9,
     "metadata": {},
     "output_type": "execute_result"
    }
   ],
   "source": [
    "bacon.index('cat')"
   ]
  },
  {
   "cell_type": "code",
   "execution_count": 10,
   "id": "1c694684",
   "metadata": {},
   "outputs": [],
   "source": [
    "bacon.remove('cat')"
   ]
  },
  {
   "cell_type": "code",
   "execution_count": 11,
   "id": "5c839021",
   "metadata": {},
   "outputs": [
    {
     "data": {
      "text/plain": [
       "[3.14, 11, 'cat', True]"
      ]
     },
     "execution_count": 11,
     "metadata": {},
     "output_type": "execute_result"
    }
   ],
   "source": [
    "bacon"
   ]
  },
  {
   "cell_type": "code",
   "execution_count": 12,
   "id": "cd322b9b",
   "metadata": {},
   "outputs": [
    {
     "data": {
      "text/plain": [
       "[3.14, 11, 'cat', True, 'a', 'b', 'c', 'd', 'e']"
      ]
     },
     "execution_count": 12,
     "metadata": {},
     "output_type": "execute_result"
    }
   ],
   "source": [
    "bacon + spam"
   ]
  },
  {
   "cell_type": "code",
   "execution_count": 13,
   "id": "b6204c3d",
   "metadata": {},
   "outputs": [
    {
     "data": {
      "text/plain": [
       "[3.14, 11, 'cat', True, 3.14, 11, 'cat', True, 3.14, 11, 'cat', True]"
      ]
     },
     "execution_count": 13,
     "metadata": {},
     "output_type": "execute_result"
    }
   ],
   "source": [
    "spam + bacon\n",
    "bacon * 3"
   ]
  },
  {
   "cell_type": "code",
   "execution_count": 14,
   "id": "6cf8a4ba",
   "metadata": {},
   "outputs": [
    {
     "data": {
      "text/plain": [
       "['a', 'b', 'c', 'd', 'e', 3.14, 11, 'cat', True]"
      ]
     },
     "execution_count": 14,
     "metadata": {},
     "output_type": "execute_result"
    }
   ],
   "source": [
    "spam + bacon\n"
   ]
  },
  {
   "cell_type": "code",
   "execution_count": 16,
   "id": "88eefff5",
   "metadata": {},
   "outputs": [],
   "source": [
    "bacon.insert(2,\"m\")"
   ]
  },
  {
   "cell_type": "code",
   "execution_count": 17,
   "id": "59a85cd7",
   "metadata": {},
   "outputs": [
    {
     "data": {
      "text/plain": [
       "[3.14, 11, 'm', 'cat', True]"
      ]
     },
     "execution_count": 17,
     "metadata": {},
     "output_type": "execute_result"
    }
   ],
   "source": [
    "bacon"
   ]
  },
  {
   "cell_type": "code",
   "execution_count": 18,
   "id": "a8c7210e",
   "metadata": {},
   "outputs": [],
   "source": [
    "bacon.remove(\"m\")"
   ]
  },
  {
   "cell_type": "code",
   "execution_count": 19,
   "id": "2f965b4b",
   "metadata": {},
   "outputs": [
    {
     "data": {
      "text/plain": [
       "[3.14, 11, 'cat', True]"
      ]
     },
     "execution_count": 19,
     "metadata": {},
     "output_type": "execute_result"
    }
   ],
   "source": [
    "bacon"
   ]
  },
  {
   "cell_type": "code",
   "execution_count": 20,
   "id": "286bf80a",
   "metadata": {},
   "outputs": [
    {
     "data": {
      "text/plain": [
       "True"
      ]
     },
     "execution_count": 20,
     "metadata": {},
     "output_type": "execute_result"
    }
   ],
   "source": [
    "bacon.pop()"
   ]
  },
  {
   "cell_type": "code",
   "execution_count": 21,
   "id": "bb03c453",
   "metadata": {},
   "outputs": [
    {
     "data": {
      "text/plain": [
       "[3.14, 11, 'cat']"
      ]
     },
     "execution_count": 21,
     "metadata": {},
     "output_type": "execute_result"
    }
   ],
   "source": [
    "bacon"
   ]
  },
  {
   "cell_type": "code",
   "execution_count": 27,
   "id": "78742d26",
   "metadata": {},
   "outputs": [],
   "source": [
    "p = (42,)"
   ]
  },
  {
   "cell_type": "code",
   "execution_count": 28,
   "id": "8d188125",
   "metadata": {},
   "outputs": [],
   "source": [
    "m = (43)"
   ]
  },
  {
   "cell_type": "code",
   "execution_count": 30,
   "id": "286a3067",
   "metadata": {},
   "outputs": [
    {
     "data": {
      "text/plain": [
       "tuple"
      ]
     },
     "execution_count": 30,
     "metadata": {},
     "output_type": "execute_result"
    }
   ],
   "source": [
    "type(p)\n"
   ]
  },
  {
   "cell_type": "code",
   "execution_count": 32,
   "id": "6c763670",
   "metadata": {},
   "outputs": [
    {
     "data": {
      "text/plain": [
       "int"
      ]
     },
     "execution_count": 32,
     "metadata": {},
     "output_type": "execute_result"
    }
   ],
   "source": [
    "type(m)"
   ]
  },
  {
   "cell_type": "code",
   "execution_count": 48,
   "id": "d0b9d573",
   "metadata": {},
   "outputs": [],
   "source": [
    "sample = [1,2,3,4]"
   ]
  },
  {
   "cell_type": "code",
   "execution_count": 49,
   "id": "68295037",
   "metadata": {},
   "outputs": [],
   "source": [
    "tup = tuple(sample)"
   ]
  },
  {
   "cell_type": "code",
   "execution_count": 50,
   "id": "ff573c1e",
   "metadata": {},
   "outputs": [
    {
     "name": "stdout",
     "output_type": "stream",
     "text": [
      "(1, 2, 3, 4)\n"
     ]
    }
   ],
   "source": [
    "print (tup)"
   ]
  },
  {
   "cell_type": "code",
   "execution_count": 51,
   "id": "3c2e598a",
   "metadata": {},
   "outputs": [
    {
     "data": {
      "text/plain": [
       "tuple"
      ]
     },
     "execution_count": 51,
     "metadata": {},
     "output_type": "execute_result"
    }
   ],
   "source": [
    "type(tup)"
   ]
  },
  {
   "cell_type": "code",
   "execution_count": 52,
   "id": "24146e0d",
   "metadata": {},
   "outputs": [],
   "source": [
    "sample2 = (5,6,7,8)"
   ]
  },
  {
   "cell_type": "code",
   "execution_count": 53,
   "id": "0166ddd9",
   "metadata": {},
   "outputs": [],
   "source": [
    "lis = list(sample2)"
   ]
  },
  {
   "cell_type": "code",
   "execution_count": 55,
   "id": "57a19e2e",
   "metadata": {},
   "outputs": [
    {
     "name": "stdout",
     "output_type": "stream",
     "text": [
      "[5, 6, 7, 8]\n"
     ]
    }
   ],
   "source": [
    "print (lis)"
   ]
  },
  {
   "cell_type": "code",
   "execution_count": null,
   "id": "c2578bd3",
   "metadata": {},
   "outputs": [],
   "source": []
  },
  {
   "cell_type": "code",
   "execution_count": 76,
   "id": "659b794b",
   "metadata": {},
   "outputs": [],
   "source": []
  },
  {
   "cell_type": "code",
   "execution_count": 111,
   "id": "d3c68f58",
   "metadata": {},
   "outputs": [
    {
     "name": "stdout",
     "output_type": "stream",
     "text": [
      "[0, 9, 8, 7]\n",
      "[0, 9, 8, 7]\n"
     ]
    }
   ],
   "source": [
    "import copy\n",
    "\n",
    "li1 = [0,9,8,7]\n",
    "li2 = copy.deepcopy(li1)\n",
    "\n",
    "print(li1)\n",
    "\n",
    "li2[1] = 5\n",
    "\n",
    "print(li1)\n"
   ]
  },
  {
   "cell_type": "code",
   "execution_count": 112,
   "id": "ff7ba0ea",
   "metadata": {},
   "outputs": [
    {
     "name": "stdout",
     "output_type": "stream",
     "text": [
      "[1, 2, [3, 5], 4]\n",
      "[1, 2, [3, 5], 4]\n"
     ]
    }
   ],
   "source": [
    "\n",
    "import copy\n",
    "  \n",
    "li1 = [1, 2, [3,5], 4]\n",
    "li2 = copy.deepcopy(li1)\n",
    "  \n",
    "print (li1)\n",
    "      \n",
    "li2[2][0] = 4\n",
    "  \n",
    "print (li1)"
   ]
  },
  {
   "cell_type": "code",
   "execution_count": 118,
   "id": "bf93472b",
   "metadata": {},
   "outputs": [
    {
     "name": "stdout",
     "output_type": "stream",
     "text": [
      "[0, [9, 8], 7]\n",
      "[0, [9, 8], 7]\n"
     ]
    }
   ],
   "source": [
    "import copy\n",
    "\n",
    "li1 = [0,[9,8],7]\n",
    "li2 = copy.deepcopy(li1)\n",
    "\n",
    "print(li1)\n",
    "\n",
    "li2[1][0] = 5\n",
    "\n",
    "print(li1)"
   ]
  },
  {
   "cell_type": "code",
   "execution_count": 121,
   "id": "67905c2e",
   "metadata": {},
   "outputs": [
    {
     "name": "stdout",
     "output_type": "stream",
     "text": [
      "[1, 2, [3, 5], 4]\n",
      "[1, 2, [3, 5], 4]\n"
     ]
    }
   ],
   "source": [
    "import copy\n",
    "  \n",
    "li1 = [1, 2, [3,5], 4]\n",
    "li2 = copy.copy(li1)\n",
    "  \n",
    "print (li1)\n",
    "      \n",
    "li2[2] = 4\n",
    "  \n",
    "print (li1)"
   ]
  },
  {
   "cell_type": "code",
   "execution_count": null,
   "id": "c777b601",
   "metadata": {},
   "outputs": [],
   "source": []
  },
  {
   "cell_type": "code",
   "execution_count": null,
   "id": "152594bb",
   "metadata": {},
   "outputs": [],
   "source": []
  }
 ],
 "metadata": {
  "kernelspec": {
   "display_name": "Python 3 (ipykernel)",
   "language": "python",
   "name": "python3"
  },
  "language_info": {
   "codemirror_mode": {
    "name": "ipython",
    "version": 3
   },
   "file_extension": ".py",
   "mimetype": "text/x-python",
   "name": "python",
   "nbconvert_exporter": "python",
   "pygments_lexer": "ipython3",
   "version": "3.9.12"
  }
 },
 "nbformat": 4,
 "nbformat_minor": 5
}
