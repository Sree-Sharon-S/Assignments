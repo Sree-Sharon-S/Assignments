{
 "cells": [
  {
   "cell_type": "markdown",
   "id": "7d815ede",
   "metadata": {},
   "source": [
    "# ASSIGNMENT 6"
   ]
  },
  {
   "cell_type": "markdown",
   "id": "1ca84a64",
   "metadata": {},
   "source": [
    "### 1) What are escape characters, and how do you use them?\n"
   ]
  },
  {
   "cell_type": "markdown",
   "id": "3c30dada",
   "metadata": {},
   "source": [
    "Escape characters are used for making illegal characters to be used in a string. For example, I cannot use both single and double quotes inside a string because the string itself has to be enclosed by quotations. To avoid this difficulty, I can ass a'/' symbol before the character i want to use. These are called escape characters."
   ]
  },
  {
   "cell_type": "markdown",
   "id": "4f120337",
   "metadata": {},
   "source": [
    "### 2) What do the escape characters n and t stand for?\n"
   ]
  },
  {
   "cell_type": "markdown",
   "id": "aa87bd2e",
   "metadata": {},
   "source": [
    "\\n stands for new line\n",
    "\\t stands for tab"
   ]
  },
  {
   "cell_type": "markdown",
   "id": "b358a0e9",
   "metadata": {},
   "source": [
    "### 3) What is the way to include backslash characters in a string?\n"
   ]
  },
  {
   "cell_type": "markdown",
   "id": "c0b5025a",
   "metadata": {},
   "source": [
    "by typing in two backslashes"
   ]
  },
  {
   "cell_type": "code",
   "execution_count": 28,
   "id": "705b5223",
   "metadata": {},
   "outputs": [],
   "source": [
    "literal = 'and\\\\or'"
   ]
  },
  {
   "cell_type": "code",
   "execution_count": 29,
   "id": "f7c28efc",
   "metadata": {},
   "outputs": [
    {
     "name": "stdout",
     "output_type": "stream",
     "text": [
      "and\\or\n"
     ]
    }
   ],
   "source": [
    "print(literal)"
   ]
  },
  {
   "cell_type": "markdown",
   "id": "1eb8db3d",
   "metadata": {},
   "source": [
    "### 4) The string &quot;Howl's Moving Castle&quot; is a correct value. Why isn't the single quote character in the  word Howl's not escaped a problem?\n"
   ]
  },
  {
   "cell_type": "markdown",
   "id": "1335e17a",
   "metadata": {},
   "source": [
    "Because the string itself s enclosed by double quotes and python can recognize double quotes as literals and the single quote as a character."
   ]
  },
  {
   "cell_type": "markdown",
   "id": "1d09f0aa",
   "metadata": {},
   "source": [
    "### 5) How do you write a string of newlines if you don't want to use the n character?\n"
   ]
  },
  {
   "cell_type": "code",
   "execution_count": 39,
   "id": "0cf39f65",
   "metadata": {},
   "outputs": [],
   "source": [
    "strng = \"My name is Sharon.\" + \"\\nI have short hair.\""
   ]
  },
  {
   "cell_type": "code",
   "execution_count": 40,
   "id": "25a4d8d3",
   "metadata": {},
   "outputs": [
    {
     "name": "stdout",
     "output_type": "stream",
     "text": [
      "My name is Sharon.\n",
      "I have short hair.\n"
     ]
    }
   ],
   "source": [
    "print(strng)"
   ]
  },
  {
   "cell_type": "markdown",
   "id": "897acc60",
   "metadata": {},
   "source": [
    "### 6) What are the values of the given expressions?\n",
    "'Hello, world!'[1]\n",
    "'Hello, world!'[0:5]\n",
    "'Hello, world!'[:5]\n",
    "'Hello, world!'[3:]\n",
    "\n"
   ]
  },
  {
   "cell_type": "markdown",
   "id": "5f0e825e",
   "metadata": {},
   "source": [
    "'Hello, world!'[1]   - 'e'\n",
    "\n",
    "'Hello, world!'[0:5] - 'Hello'\n",
    "\n",
    "'Hello, world!'[:5]  - 'Hello'\n",
    "\n",
    "'Hello, world!'[3:]  - 'lo, world!'"
   ]
  },
  {
   "cell_type": "markdown",
   "id": "114fe5cc",
   "metadata": {},
   "source": [
    "### 7) What are the values of the following expressions?\n",
    "'Hello'.upper()\n",
    "'Hello'.upper().isupper()\n",
    "'Hello'.upper().lower()\n"
   ]
  },
  {
   "cell_type": "markdown",
   "id": "21ca9fd7",
   "metadata": {},
   "source": [
    "'Hello'.upper()           - 'HELLO'    \n",
    "            \n",
    "'Hello'.upper().isupper() -  True   \n",
    "\n",
    "'Hello'.upper().lower()   - 'hello' "
   ]
  },
  {
   "cell_type": "markdown",
   "id": "f5e9bb13",
   "metadata": {},
   "source": [
    "### 8) What are the values of the following expressions?\n",
    "'Remember, remember, the fifth of July.'.split()\n",
    "'-'.join('There can only one.'.split())\n"
   ]
  },
  {
   "cell_type": "markdown",
   "id": "47aff842",
   "metadata": {},
   "source": [
    "'Remember, remember, the fifth of July.'.split() - ['Remember,', 'remember,', 'the', 'fifth', 'of', 'July.']\n",
    "\n",
    "'-'.join('There can only one.'.split())          - 'There-can-only-one.'"
   ]
  },
  {
   "cell_type": "markdown",
   "id": "1aea7f31",
   "metadata": {},
   "source": [
    "### 9) What are the methods for right-justifying, left-justifying, and centering a string?\n"
   ]
  },
  {
   "cell_type": "markdown",
   "id": "f96b0c06",
   "metadata": {},
   "source": [
    "str.rjust() for right-justifying\n",
    "\n",
    "str.ljust() for left-justifying\n",
    "\n",
    "str.center() for centering\n"
   ]
  },
  {
   "cell_type": "code",
   "execution_count": 102,
   "id": "86f47f5b",
   "metadata": {},
   "outputs": [
    {
     "name": "stdout",
     "output_type": "stream",
     "text": [
      "Autumn is the season after summer*************************************\n"
     ]
    }
   ],
   "source": [
    "autumn = \"Autumn is the season after summer\"\n",
    "print (autumn.ljust(70,'*'))"
   ]
  },
  {
   "cell_type": "markdown",
   "id": "c1aa5b4d",
   "metadata": {},
   "source": [
    "### 10) What is the best way to remove whitespace characters from the start or end?"
   ]
  },
  {
   "cell_type": "markdown",
   "id": "5b0466c9",
   "metadata": {},
   "source": [
    "trim() removes all the white spaces."
   ]
  },
  {
   "cell_type": "code",
   "execution_count": null,
   "id": "cb5dc47e",
   "metadata": {},
   "outputs": [],
   "source": []
  },
  {
   "cell_type": "code",
   "execution_count": null,
   "id": "bd01ef90",
   "metadata": {},
   "outputs": [],
   "source": []
  }
 ],
 "metadata": {
  "kernelspec": {
   "display_name": "Python 3 (ipykernel)",
   "language": "python",
   "name": "python3"
  },
  "language_info": {
   "codemirror_mode": {
    "name": "ipython",
    "version": 3
   },
   "file_extension": ".py",
   "mimetype": "text/x-python",
   "name": "python",
   "nbconvert_exporter": "python",
   "pygments_lexer": "ipython3",
   "version": "3.9.12"
  }
 },
 "nbformat": 4,
 "nbformat_minor": 5
}
