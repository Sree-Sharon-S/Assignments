{
 "cells": [
  {
   "cell_type": "markdown",
   "id": "f275552e",
   "metadata": {},
   "source": [
    "# ASSIGNMENT 5"
   ]
  },
  {
   "cell_type": "markdown",
   "id": "cb1ee742",
   "metadata": {},
   "source": [
    "### 1) What does an empty dictionary's code look like?\n",
    "\n",
    "emptyDict= {}\n"
   ]
  },
  {
   "cell_type": "code",
   "execution_count": 4,
   "id": "3c1939a4",
   "metadata": {},
   "outputs": [],
   "source": [
    "emptyDict= {}"
   ]
  },
  {
   "cell_type": "code",
   "execution_count": 5,
   "id": "8550ad71",
   "metadata": {},
   "outputs": [
    {
     "data": {
      "text/plain": [
       "dict"
      ]
     },
     "execution_count": 5,
     "metadata": {},
     "output_type": "execute_result"
    }
   ],
   "source": [
    "type(emptyDict)"
   ]
  },
  {
   "cell_type": "markdown",
   "id": "c8443afb",
   "metadata": {},
   "source": [
    "### 2) What is the value of a dictionary value with the key 'foo' and the value 42?\n"
   ]
  },
  {
   "cell_type": "code",
   "execution_count": 6,
   "id": "ad6da774",
   "metadata": {},
   "outputs": [],
   "source": [
    "d =  {'foo':42}"
   ]
  },
  {
   "cell_type": "markdown",
   "id": "ea64a856",
   "metadata": {},
   "source": [
    "### 3) What is the most significant distinction between a dictionary and a list?"
   ]
  },
  {
   "cell_type": "markdown",
   "id": "261b6dae",
   "metadata": {},
   "source": [
    " The items inside a list must be indexed with integers. But for a dictionary each value is assigned with a key that can be used for indexing that particular value."
   ]
  },
  {
   "cell_type": "markdown",
   "id": "4a24dd80",
   "metadata": {},
   "source": [
    "### 4) What happens if you try to access spam['foo'] if spam is {'bar': 100}?"
   ]
  },
  {
   "cell_type": "markdown",
   "id": "91a8a243",
   "metadata": {},
   "source": [
    " It raises a key error"
   ]
  },
  {
   "cell_type": "markdown",
   "id": "2e8d090b",
   "metadata": {},
   "source": [
    "### 5) If a dictionary is stored in spam, what is the difference between the expressions 'cat' in spam and 'cat' in spam.keys()?\n"
   ]
  },
  {
   "cell_type": "markdown",
   "id": "7b0ed9b0",
   "metadata": {},
   "source": [
    "No difference. Both checks if 'cat' is present in the keys of the diactionary spam."
   ]
  },
  {
   "cell_type": "code",
   "execution_count": 17,
   "id": "4ab89d6d",
   "metadata": {},
   "outputs": [],
   "source": [
    "spam = {\"snake\": 1, \"dog\" : \"cat\"}\n"
   ]
  },
  {
   "cell_type": "code",
   "execution_count": 19,
   "id": "9636f38a",
   "metadata": {},
   "outputs": [
    {
     "data": {
      "text/plain": [
       "False"
      ]
     },
     "execution_count": 19,
     "metadata": {},
     "output_type": "execute_result"
    }
   ],
   "source": [
    "\"cat\" in spam.keys()"
   ]
  },
  {
   "cell_type": "code",
   "execution_count": 20,
   "id": "0b31ebda",
   "metadata": {},
   "outputs": [
    {
     "data": {
      "text/plain": [
       "False"
      ]
     },
     "execution_count": 20,
     "metadata": {},
     "output_type": "execute_result"
    }
   ],
   "source": [
    "\"cat\" in spam"
   ]
  },
  {
   "cell_type": "markdown",
   "id": "bd82c15d",
   "metadata": {},
   "source": [
    "### 6) If a dictionary is stored in spam, what is the difference between the expressions 'cat' in spam and 'cat' in spam.values()?\n"
   ]
  },
  {
   "cell_type": "markdown",
   "id": "673085d5",
   "metadata": {},
   "source": [
    "'cat' in spam checks if 'cat' is present in the keys.\n",
    "\n",
    "But 'cat' in spam.values() checks specifically if 'cat' is present in the values."
   ]
  },
  {
   "cell_type": "markdown",
   "id": "e8efc2ac",
   "metadata": {},
   "source": [
    " spam = {\"snake\": 1, \"dog\" : \"cat\"}"
   ]
  },
  {
   "cell_type": "code",
   "execution_count": 22,
   "id": "0a5d8ac6",
   "metadata": {},
   "outputs": [
    {
     "data": {
      "text/plain": [
       "True"
      ]
     },
     "execution_count": 22,
     "metadata": {},
     "output_type": "execute_result"
    }
   ],
   "source": [
    "\"cat\" in spam.values()"
   ]
  },
  {
   "cell_type": "markdown",
   "id": "78959127",
   "metadata": {},
   "source": [
    "### 7) What is a shortcut for the following code? if 'color' not in spam: spam['color'] = 'black'\n",
    "\n"
   ]
  },
  {
   "cell_type": "markdown",
   "id": "0a8e7604",
   "metadata": {},
   "source": [
    "spam.setdefault('color','black')"
   ]
  },
  {
   "cell_type": "code",
   "execution_count": 42,
   "id": "802c75c6",
   "metadata": {},
   "outputs": [
    {
     "data": {
      "text/plain": [
       "'black'"
      ]
     },
     "execution_count": 42,
     "metadata": {},
     "output_type": "execute_result"
    }
   ],
   "source": [
    "spam = {\"snake\": 1, \"dog\" : \"cat\"}\n",
    "spam.setdefault ('color','black')"
   ]
  },
  {
   "cell_type": "code",
   "execution_count": 43,
   "id": "4e52715f",
   "metadata": {},
   "outputs": [
    {
     "data": {
      "text/plain": [
       "{'snake': 1, 'dog': 'cat', 'color': 'black'}"
      ]
     },
     "execution_count": 43,
     "metadata": {},
     "output_type": "execute_result"
    }
   ],
   "source": [
    "spam"
   ]
  },
  {
   "cell_type": "markdown",
   "id": "da90a3eb",
   "metadata": {},
   "source": [
    "### 8) How do you &quot;pretty print&quot; dictionary values using which module and function?"
   ]
  },
  {
   "cell_type": "code",
   "execution_count": 61,
   "id": "c8a022d6",
   "metadata": {},
   "outputs": [],
   "source": [
    "import pprint"
   ]
  },
  {
   "cell_type": "code",
   "execution_count": 66,
   "id": "a367082e",
   "metadata": {},
   "outputs": [
    {
     "name": "stdout",
     "output_type": "stream",
     "text": [
      "{'color': 'black', 'dog': 'cat', 'snake': 1}\n"
     ]
    }
   ],
   "source": [
    "pprint.pprint(spam,\n",
    "    stream=None,\n",
    "    indent=2,\n",
    "    width=150,\n",
    "    depth=None,\n",
    "    compact=True,\n",
    "    sort_dicts=True)"
   ]
  },
  {
   "cell_type": "markdown",
   "id": "2e49b5e3",
   "metadata": {},
   "source": [
    "# ROUGH WORK"
   ]
  },
  {
   "cell_type": "code",
   "execution_count": null,
   "id": "e0d42c47",
   "metadata": {},
   "outputs": [],
   "source": [
    "--"
   ]
  }
 ],
 "metadata": {
  "kernelspec": {
   "display_name": "Python 3 (ipykernel)",
   "language": "python",
   "name": "python3"
  },
  "language_info": {
   "codemirror_mode": {
    "name": "ipython",
    "version": 3
   },
   "file_extension": ".py",
   "mimetype": "text/x-python",
   "name": "python",
   "nbconvert_exporter": "python",
   "pygments_lexer": "ipython3",
   "version": "3.9.12"
  }
 },
 "nbformat": 4,
 "nbformat_minor": 5
}
