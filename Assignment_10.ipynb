{
 "cells": [
  {
   "cell_type": "markdown",
   "id": "4559c012",
   "metadata": {},
   "source": [
    "# ASSIGNMENT 10 "
   ]
  },
  {
   "cell_type": "markdown",
   "id": "ca2560df",
   "metadata": {},
   "source": [
    "### 1) How do you distinguish between shutil.copy() and shutil.copytree()?\n"
   ]
  },
  {
   "cell_type": "markdown",
   "id": "e764dbb7",
   "metadata": {},
   "source": [
    "shutil.copy() will copy a single file, shutil.copytree copies a full folder"
   ]
  },
  {
   "cell_type": "markdown",
   "id": "ca66ca1b",
   "metadata": {},
   "source": [
    "### 2) What function is used to rename files??\n"
   ]
  },
  {
   "cell_type": "markdown",
   "id": "f0d68642",
   "metadata": {},
   "source": [
    "shutil.move()"
   ]
  },
  {
   "cell_type": "markdown",
   "id": "6b6cceaa",
   "metadata": {},
   "source": [
    "### 3) What is the difference between the delete functions in the send2trash and shutil modules?\n"
   ]
  },
  {
   "cell_type": "markdown",
   "id": "554fe817",
   "metadata": {},
   "source": [
    "send2trash will put the files in recycle bin. delete function of shutil will delete the files permanently. "
   ]
  },
  {
   "cell_type": "markdown",
   "id": "762560f5",
   "metadata": {},
   "source": [
    "### 4) ZipFile objects have a close() method just like File objects’ close() method. What ZipFile method is equivalent to File objects’ open() method?\n"
   ]
  },
  {
   "cell_type": "markdown",
   "id": "da47b4f8",
   "metadata": {},
   "source": [
    "zipfile.ZipFile()"
   ]
  },
  {
   "cell_type": "markdown",
   "id": "abf5fcfd",
   "metadata": {},
   "source": [
    "### 5) Create a programme that searches a folder tree for files with a certain file extension (such as .pdf or .jpg). Copy these files from whatever location they are in to a new folder"
   ]
  },
  {
   "cell_type": "code",
   "execution_count": 68,
   "id": "fa325c38",
   "metadata": {},
   "outputs": [
    {
     "name": "stdout",
     "output_type": "stream",
     "text": [
      "FILES COPIED:  E:\\\\PORTION 2021-22 ---.pdf\n",
      "FILES COPIED:  E:\\\\RRB Application.pdf\n",
      "FILES COPIED:  E:\\$RECYCLE.BIN\\S-1-5-21-1582088477-4203221864-1249067405-1001\\$I6AFTPF.pdf\n",
      "FILES COPIED:  E:\\B.Ed\\Growth activities help to written language.pdf\n",
      "FILES COPIED:  E:\\B.Ed\\Study material\\Childhood and Growing.pdf\n",
      "FILES COPIED:  E:\\B.Ed\\Study material\\Contemporary India and Education.pdf\n",
      "FILES COPIED:  E:\\B.Ed\\Study material\\Learning and Teaching.pdf\n",
      "FILES COPIED:  E:\\B.Ed\\Study material\\Physical Science.pdf\n",
      "FILES COPIED:  E:\\Reasoning\\blood-relation-ultra-bundle-pdf-for-upcoming-bank-mains-exams.pdf\n",
      "FILES COPIED:  E:\\Reasoning\\coding-decoding-ultra-bundle-pdf-for-upcoming-bank-mains-exams.pdf\n",
      "FILES COPIED:  E:\\Reasoning\\RRB GPAY.pdf\n",
      "FILES COPIED:  E:\\Reasoning\\sample-questions-from-high-level-puzzles-seating-questions-special-paid-pdf.pdf\n",
      "FILES COPIED:  E:\\Reasoning\\syllogism-ultra-bundle-pdf-for-upcoming-bank-mains-exams.pdf\n"
     ]
    }
   ],
   "source": [
    "import os,shutil\n",
    "\n",
    "listOfItems = os.walk('E:\\\\')\n",
    "required = []\n",
    "for folders, subfolders, files in listOfItems:\n",
    "    for filenames in files:\n",
    "        if filenames.endswith('.pdf' or '.jpg'):\n",
    "            required.append(folders + '\\\\' + filenames)\n",
    "for items in required:\n",
    "    try: \n",
    "        shutil.copy(items, 'D:\\\\aaa')\n",
    "        print('FILES COPIED: ',items)\n",
    "        \n",
    "    except:\n",
    "        print(\"FILE NOT FOUND: \", items)\n",
    "\n"
   ]
  },
  {
   "cell_type": "code",
   "execution_count": 64,
   "id": "1b0061d4",
   "metadata": {},
   "outputs": [],
   "source": [
    "import os, shutil\n",
    "from pathlib import Path\n",
    "\n",
    "def CopyingFolders(folder, destFolder):\n",
    "    folder = os.path.abspath(folder)\n",
    "    destFolder = os.path.abspath(destFolder)\n",
    "    \n",
    "    for foldername, subfolders, files in os.walk(folder):\n",
    "        for filename in files:\n",
    "            \n",
    "            if filename.endswith('.pdf' or '.jpg'):\n",
    "                fileAbsPath = foldername + os.path.sep + filename\n",
    "                shutil.copy(fileAbsPath, destFolder)\n",
    "\n",
    "\n",
    "folder = 'E:\\\\'\n",
    "destFolder = 'D:\\\\aaa'\n",
    "CopyingFolders(folder, destFolder)\n",
    "            \n",
    "           \n",
    "            \n",
    "            \n"
   ]
  },
  {
   "cell_type": "markdown",
   "id": "bab8d5cd",
   "metadata": {},
   "source": [
    "# ROUGH WORK"
   ]
  },
  {
   "cell_type": "code",
   "execution_count": 1,
   "id": "0468b81e",
   "metadata": {},
   "outputs": [],
   "source": [
    "import shutil, os"
   ]
  },
  {
   "cell_type": "code",
   "execution_count": 2,
   "id": "e8f9ea7d",
   "metadata": {
    "scrolled": true
   },
   "outputs": [
    {
     "data": {
      "text/plain": [
       "'C:\\\\Users\\\\Sharon\\\\ASSIGNMENTS'"
      ]
     },
     "execution_count": 2,
     "metadata": {},
     "output_type": "execute_result"
    }
   ],
   "source": [
    "os.getcwd()"
   ]
  },
  {
   "cell_type": "code",
   "execution_count": null,
   "id": "d1f40d6c",
   "metadata": {},
   "outputs": [],
   "source": []
  }
 ],
 "metadata": {
  "kernelspec": {
   "display_name": "Python 3 (ipykernel)",
   "language": "python",
   "name": "python3"
  },
  "language_info": {
   "codemirror_mode": {
    "name": "ipython",
    "version": 3
   },
   "file_extension": ".py",
   "mimetype": "text/x-python",
   "name": "python",
   "nbconvert_exporter": "python",
   "pygments_lexer": "ipython3",
   "version": "3.9.12"
  }
 },
 "nbformat": 4,
 "nbformat_minor": 5
}
