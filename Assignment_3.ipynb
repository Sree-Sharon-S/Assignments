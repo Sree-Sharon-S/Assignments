{
 "cells": [
  {
   "cell_type": "markdown",
   "id": "ab1e46cf",
   "metadata": {},
   "source": [
    "# ASSIGNMENT 3"
   ]
  },
  {
   "cell_type": "markdown",
   "id": "0882f6bc",
   "metadata": {},
   "source": [
    "1) Why are functions advantageous to have in your programs?\n",
    "\n",
    "Functions can be called through out the programs whenever necessary and there is noneed to re-write the code again and again."
   ]
  },
  {
   "cell_type": "markdown",
   "id": "d8854d25",
   "metadata": {},
   "source": [
    "2) When does the code in a function run: when it's specified or when it's called?\n",
    "\n",
    "A code in a function runs when it is 'called' from the appropriate module and necessary parameters are passed into it.\n"
   ]
  },
  {
   "cell_type": "markdown",
   "id": "80d7504c",
   "metadata": {},
   "source": [
    "3) What statement creates a function?\n",
    "\n",
    "def _functionName_():\n",
    "\n",
    "- creates a function called _functionName_"
   ]
  },
  {
   "cell_type": "markdown",
   "id": "9b103803",
   "metadata": {},
   "source": [
    "4) What is the difference between a function and a function call?\n",
    "\n",
    "Function is a block of codes that tells what to be done for a given set of data. Function call is the process through which we make a function work during coding.\n"
   ]
  },
  {
   "cell_type": "markdown",
   "id": "9a9fdcb8",
   "metadata": {},
   "source": [
    "5) How many global scopes are there in a Python program? How many local scopes?\n",
    " There can be many local scopes within a program for different functions. But there can be only one global scope."
   ]
  },
  {
   "cell_type": "markdown",
   "id": "0deb200e",
   "metadata": {},
   "source": [
    "6) What happens to variables in a local scope when the function call returns?\n",
    "\n",
    "When the function call returns, the loacl variables are no longer in use so they get deleted."
   ]
  },
  {
   "cell_type": "markdown",
   "id": "a7fe1176",
   "metadata": {},
   "source": [
    "7) What is the concept of a return value? Is it possible to have a return value in an expression?\n",
    "\n",
    "A return statement terminates a function. If the return value has any expression in it, it will give a result whose data type is intact. It is possible to have a return value in an expression. "
   ]
  },
  {
   "cell_type": "markdown",
   "id": "cbcf2e88",
   "metadata": {},
   "source": [
    "8) If a function does not have a return statement, what is the return value of a call to that function?\n",
    "\n",
    " If a function does not have a return statement, it gives None.\n"
   ]
  },
  {
   "cell_type": "markdown",
   "id": "b9837e46",
   "metadata": {},
   "source": [
    "9) How do you make a function variable refer to the global variable?\n",
    " \n",
    " By using a Global keyword."
   ]
  },
  {
   "cell_type": "markdown",
   "id": "04f91dd9",
   "metadata": {},
   "source": [
    "10) What is the data type of None?\n",
    " \n",
    " NoneType"
   ]
  },
  {
   "cell_type": "markdown",
   "id": "16521a74",
   "metadata": {},
   "source": [
    "11) What does the sentence import areallyourpetsnamederic do?\n",
    "\n",
    "this statment imports the module named areallyourpetsnamederic so that we can use all the functions inside this module"
   ]
  },
  {
   "cell_type": "markdown",
   "id": "5826fd21",
   "metadata": {},
   "source": [
    "12) If you had a bacon() feature in a spam module, what would you call it after importing spam?\n",
    "\n",
    " spam.bacon()"
   ]
  },
  {
   "cell_type": "markdown",
   "id": "1e23d9de",
   "metadata": {},
   "source": [
    "13) What can you do to save a programme from crashing if it encounters an error?\n",
    "\n",
    " By using try and exception blocks, we can save a program from crashing."
   ]
  },
  {
   "cell_type": "markdown",
   "id": "9035f59d",
   "metadata": {},
   "source": [
    "14) What is the purpose of the try clause? What is the purpose of the except clause?'\n",
    "\n",
    " by using the try clause we can run thecode and see if it works.\n",
    " By using the except clause, if the code faces any error, it will overlook the error and continue the code and we can specifically find out which error has occured.\n",
    " \n",
    "x = 3\n",
    "\n",
    "y = 0\n",
    "\n",
    "try: \n",
    "\n",
    "    z = x/y\n",
    "    \n",
    "except ZeroDivisionError:\n",
    "\n",
    "    print ('Division by zero is not allowed!. Try a different value.')\n",
    " \n"
   ]
  },
  {
   "cell_type": "markdown",
   "id": "cf08d5d5",
   "metadata": {},
   "source": [
    "# ROUGH WORK"
   ]
  },
  {
   "cell_type": "code",
   "execution_count": 5,
   "id": "58ac9883",
   "metadata": {},
   "outputs": [
    {
     "name": "stdout",
     "output_type": "stream",
     "text": [
      "None\n"
     ]
    }
   ],
   "source": [
    "def sree(x):\n",
    "    x = x+1\n",
    "\n",
    "a = sree(4)\n",
    "print(a)"
   ]
  },
  {
   "cell_type": "code",
   "execution_count": 18,
   "id": "dd159018",
   "metadata": {},
   "outputs": [
    {
     "name": "stdout",
     "output_type": "stream",
     "text": [
      "6\n"
     ]
    }
   ],
   "source": [
    "\n",
    "def shar():\n",
    "    global x \n",
    "    x = x + 1\n",
    "    \n",
    "    return(x)\n",
    "shar()\n",
    "print (x)"
   ]
  },
  {
   "cell_type": "code",
   "execution_count": 20,
   "id": "8d58cacf",
   "metadata": {},
   "outputs": [
    {
     "data": {
      "text/plain": [
       "int"
      ]
     },
     "execution_count": 20,
     "metadata": {},
     "output_type": "execute_result"
    }
   ],
   "source": [
    "type(2)\n"
   ]
  },
  {
   "cell_type": "code",
   "execution_count": 21,
   "id": "fc95366b",
   "metadata": {},
   "outputs": [
    {
     "data": {
      "text/plain": [
       "NoneType"
      ]
     },
     "execution_count": 21,
     "metadata": {},
     "output_type": "execute_result"
    }
   ],
   "source": [
    "type(None)"
   ]
  },
  {
   "cell_type": "code",
   "execution_count": 23,
   "id": "9ae17d5f",
   "metadata": {},
   "outputs": [
    {
     "name": "stdout",
     "output_type": "stream",
     "text": [
      "Division by zero is not allowed!. Try a different value.\n"
     ]
    }
   ],
   "source": [
    "x = 3\n",
    "y = 0\n",
    "\n",
    "try: \n",
    "    z = x/y\n",
    "    \n",
    "except ZeroDivisionError:\n",
    "    print ('Division by zero is not allowed!. Try a different value.')"
   ]
  },
  {
   "cell_type": "code",
   "execution_count": null,
   "id": "0492d528",
   "metadata": {},
   "outputs": [],
   "source": []
  }
 ],
 "metadata": {
  "kernelspec": {
   "display_name": "Python 3 (ipykernel)",
   "language": "python",
   "name": "python3"
  },
  "language_info": {
   "codemirror_mode": {
    "name": "ipython",
    "version": 3
   },
   "file_extension": ".py",
   "mimetype": "text/x-python",
   "name": "python",
   "nbconvert_exporter": "python",
   "pygments_lexer": "ipython3",
   "version": "3.9.12"
  }
 },
 "nbformat": 4,
 "nbformat_minor": 5
}
