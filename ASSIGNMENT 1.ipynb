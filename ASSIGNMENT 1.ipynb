{
 "cells": [
  {
   "cell_type": "markdown",
   "id": "412a465f",
   "metadata": {},
   "source": [
    "# ASSIGNMENT 01"
   ]
  },
  {
   "cell_type": "raw",
   "id": "2695762d",
   "metadata": {},
   "source": [
    "1. In the below elements which of them are values or an expression? eg:- values can be\n",
    "integer or string and expressions will be mathematical operators\n",
    "\n",
    "a) *     - expression\n",
    "\n",
    "b) hello - value\n",
    "\n",
    "c) 39    - value\n",
    "\n",
    "d) -87.8 - value\n",
    "\n",
    "e) -     - expression\n",
    "\n",
    "f) /     - expression\n",
    "\n",
    "g) +     - expression\n",
    "\n",
    "h) 6     - value"
   ]
  },
  {
   "cell_type": "raw",
   "id": "b7ff6d58",
   "metadata": {},
   "source": [
    "2. What is the difference between string and variable?\n",
    "\n",
    "A string is a collection of characters that are enclosed within quotes. Strings are immutable.\n",
    "A variable is the one which stores a value or an expression. It can store any data types like intergers, strings, list etc. It can be updated throughout the program."
   ]
  },
  {
   "cell_type": "raw",
   "id": "42e0ba5c",
   "metadata": {},
   "source": [
    "3) Describe three different data types.\n",
    "\n",
    "Different data types are as follows:\n",
    "a) Numeric: any integers, floating point values come under the numeric data type.\n",
    "b) Boolean: the truth of any expression can be given by boolean data. They are of two types. True and False\n",
    "c) String : They are characters that involve any alphanumeric charater and/or symbols together \n",
    "d) Sequences: Sequences are data types that contain more than one data inside it like List and Tuple\n"
   ]
  },
  {
   "cell_type": "raw",
   "id": "edd40531",
   "metadata": {},
   "source": [
    "4. What is an expression made up of? What do all expressions do?\n",
    "\n",
    "An expression is made of mathematical operators, characters and symbols and operands.\n",
    "An expression can give a result value."
   ]
  },
  {
   "cell_type": "raw",
   "id": "c554bde3",
   "metadata": {},
   "source": [
    "5. This assignment statements, like spam = 10. What is the difference between an\n",
    "expression and a statement?\n",
    "A statement is a declaration that assigns a value to a variable. An expresson can yield a certain value as a result."
   ]
  },
  {
   "cell_type": "raw",
   "id": "9c6a54b5",
   "metadata": {},
   "source": [
    "6. After running the following code, what does the variable bacon contain?\n",
    "bacon = 22\n",
    "bacon + 1\n",
    "\n",
    "bacon contains 22"
   ]
  },
  {
   "cell_type": "raw",
   "id": "e129f893",
   "metadata": {},
   "source": [
    "7. What should the values of the following two terms be?\n",
    "'spam' + 'spamspam' = spamspamspam\n",
    "'spam' * 3          = spamspamspam\n",
    "\n"
   ]
  },
  {
   "cell_type": "raw",
   "id": "11fc9ec9",
   "metadata": {},
   "source": [
    "8. Why is eggs a valid variable name while 100 is invalid?\n",
    "\n",
    "Because 100 is an integer. A variable name should not be an integer."
   ]
  },
  {
   "cell_type": "raw",
   "id": "d0e357cd",
   "metadata": {},
   "source": [
    "9. What three functions can be used to get the integer, floating-point number, or string\n",
    "version of a value?\n",
    "\n",
    " int() for integer\n",
    " float() for floating-point number\n",
    " str() for string"
   ]
  },
  {
   "cell_type": "raw",
   "id": "9ae1f5b7",
   "metadata": {},
   "source": [
    "10. Why does this expression cause an error? How can you fix it?\n",
    "'I have eaten' + 99 +  'burritos'.\n",
    "\n",
    "Addition of a string with an integer causes an error because they are of different data types. Enclosing 99 with quotes will make it a string. Then concatenation can be done without any error.\n",
    "\n",
    "or we can use the following method.\n",
    "print('I have eaten' , 99 ,   'burritos')\n",
    "\n"
   ]
  },
  {
   "cell_type": "markdown",
   "id": "a23bd252",
   "metadata": {},
   "source": [
    "# ROUGH WORK"
   ]
  },
  {
   "cell_type": "code",
   "execution_count": 1,
   "id": "6e1be982",
   "metadata": {},
   "outputs": [
    {
     "data": {
      "text/plain": [
       "'spamspamspam'"
      ]
     },
     "execution_count": 1,
     "metadata": {},
     "output_type": "execute_result"
    }
   ],
   "source": [
    "\"spam\"*3"
   ]
  },
  {
   "cell_type": "code",
   "execution_count": 2,
   "id": "b3f94be4",
   "metadata": {},
   "outputs": [
    {
     "data": {
      "text/plain": [
       "'spamspamspam'"
      ]
     },
     "execution_count": 2,
     "metadata": {},
     "output_type": "execute_result"
    }
   ],
   "source": [
    "\"spam\"+\"spamspam\""
   ]
  },
  {
   "cell_type": "code",
   "execution_count": 5,
   "id": "b931d4d8",
   "metadata": {},
   "outputs": [
    {
     "data": {
      "text/plain": [
       "'I have eaten99burritos'"
      ]
     },
     "execution_count": 5,
     "metadata": {},
     "output_type": "execute_result"
    }
   ],
   "source": [
    "\"I have eaten\" + \"99\" +  \"burritos\"\n"
   ]
  },
  {
   "cell_type": "code",
   "execution_count": 8,
   "id": "7586ddb0",
   "metadata": {},
   "outputs": [
    {
     "name": "stdout",
     "output_type": "stream",
     "text": [
      "I have eaten 99 burritos\n"
     ]
    }
   ],
   "source": [
    "print('I have eaten' , 99 ,   'burritos')"
   ]
  },
  {
   "cell_type": "code",
   "execution_count": null,
   "id": "e7fed48f",
   "metadata": {},
   "outputs": [],
   "source": [
    "a = 99"
   ]
  }
 ],
 "metadata": {
  "kernelspec": {
   "display_name": "Python 3 (ipykernel)",
   "language": "python",
   "name": "python3"
  },
  "language_info": {
   "codemirror_mode": {
    "name": "ipython",
    "version": 3
   },
   "file_extension": ".py",
   "mimetype": "text/x-python",
   "name": "python",
   "nbconvert_exporter": "python",
   "pygments_lexer": "ipython3",
   "version": "3.9.12"
  }
 },
 "nbformat": 4,
 "nbformat_minor": 5
}
