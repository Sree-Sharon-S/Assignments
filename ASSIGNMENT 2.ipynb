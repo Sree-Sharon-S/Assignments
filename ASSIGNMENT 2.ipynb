{
 "cells": [
  {
   "cell_type": "markdown",
   "id": "87288f73",
   "metadata": {},
   "source": [
    "# ASSIGNMENT 02"
   ]
  },
  {
   "cell_type": "raw",
   "id": "a2e58a91",
   "metadata": {},
   "source": [
    "1. What are the two values of the Boolean data type? How do you write them?\n",
    "\n",
    "The two values are True and False. They are written as True, False"
   ]
  },
  {
   "cell_type": "raw",
   "id": "7b1728f4",
   "metadata": {},
   "source": [
    "2. What are the three different types of Boolean operators?\n",
    "\n",
    "AND , OR, NOT are the three different types of Boolean operators"
   ]
  },
  {
   "cell_type": "raw",
   "id": "0f935ae0",
   "metadata": {},
   "source": [
    "3. Make a list of each Boolean operator's truth tables (i.e. every possible combination of Boolean\n",
    "values for the operator and what it evaluate ).\n",
    "\n",
    "AND : True  AND True  = True\n",
    "      True  AND False = False\n",
    "      False AND True  = False\n",
    "      False AND False = False\n",
    "      \n",
    "OR  : True  OR True  = True\n",
    "      True  OR False = True\n",
    "      False OR  True  = True\n",
    "      False OR False = False\n",
    "      \n",
    "NOT :NOT True  = False\n",
    "     NOT False = True"
   ]
  },
  {
   "cell_type": "raw",
   "id": "f62776ee",
   "metadata": {},
   "source": [
    "4. What are the values of the following expressions?\n",
    "\n",
    "(5 > 4) and (3 == 5)                  = False\n",
    "not (5 > 4)                           = False\n",
    "(5 > 4) or (3 == 5)                   = True\n",
    "not ((5 > 4) or (3 == 5))             = False\n",
    "(True and True) and (True == False)   = False\n",
    "(not False) or (not True)             = True"
   ]
  },
  {
   "cell_type": "raw",
   "id": "0f596f34",
   "metadata": {},
   "source": [
    "5. What are the six comparison operators?\n",
    "\n",
    "== = is equal to\n",
    "!= = not equal to\n",
    ">  = greater than\n",
    "<  = lesser than\n",
    ">= = greater than or equal to\n",
    "<= = lesser than or equal to"
   ]
  },
  {
   "cell_type": "raw",
   "id": "a5996ca3",
   "metadata": {},
   "source": [
    "6. How do you tell the difference between the equal to and assignment operators? Describe a condition and when you would use one.\n",
    "The equal to and assignment operator differes in the number of times the symbol appears.\n",
    "If \"=\" appears once it is assignment\n",
    "If \"=\" appears twice it is comparison\n",
    "\n",
    "Eg: spam = 2  --------------------------------# this is assignment\n",
    "\n",
    "    if spam == 2:-----------------------------# this is comparison\n",
    "        print(\"The value of spam is 2\")\n"
   ]
  },
  {
   "cell_type": "raw",
   "id": "faa0fd8e",
   "metadata": {},
   "source": [
    "7. Identify the three blocks in this code:\n",
    "spam = 0\n",
    "\n",
    "#Block 1\n",
    "if spam == 10:\n",
    "  print('eggs')\n",
    "\n",
    "#Block 2\n",
    "if spam > 5:\n",
    "  print('bacon')\n",
    "\n",
    "#Block 3\n",
    "else:\n",
    "  print('ham')\n",
    "  print('spam')\n",
    "  print('spam')"
   ]
  },
  {
   "cell_type": "raw",
   "id": "f14306ff",
   "metadata": {},
   "source": [
    "8. Write code that prints Hello if 1 is stored in spam, prints Howdy if 2 is stored in spam, and prints\n",
    "Greetings! if anything else is stored in spam."
   ]
  },
  {
   "cell_type": "raw",
   "id": "a59e8957",
   "metadata": {},
   "source": [
    "9.If your programme is stuck in an endless loop, what keys you’ll press?\n",
    "\n",
    "1. Interrupt the Kernal Key\n",
    "2. Restart the Kernal key\n",
    "3. Restart and Run all codes.\n",
    "4. Interrupt the Kernel"
   ]
  },
  {
   "cell_type": "raw",
   "id": "8e90712e",
   "metadata": {},
   "source": [
    "10. How can you tell the difference between break and continue?\n",
    "\n",
    "Break stops the program stops the entire loop.\n",
    "Continue will stop the current interation and then continue with the loop again\n",
    "\n",
    "Example: \n",
    "\n",
    "l = [1,2,3,0,4,5,6]\n",
    "nl = []\n",
    "for i in l:\n",
    "    if i == 0:\n",
    "        break\n",
    "    else:\n",
    "        nl.append(i)\n",
    "    \n",
    "print (nl) --------------------------------------------- # gives the answer as [1,2,3]\n",
    "\n",
    "\n",
    "\n",
    "l = [1,2,3,0,4,5,6]\n",
    "nl = []\n",
    "for i in l:\n",
    "    if i == 0:\n",
    "        continue\n",
    "    else:\n",
    "        nl.append(i)\n",
    "\n",
    "print(nl) --------------------------------------------- # gives the answer as [1,2,3,4,5]\n",
    "\n"
   ]
  },
  {
   "cell_type": "raw",
   "id": "584a0ecb",
   "metadata": {},
   "source": [
    "11. In a for loop, what is the difference between range(10), range(0, 10), and range(0, 10, 1)?\n",
    "\n",
    "range(10)- The function iterates from 0 to 9 \n",
    "\n",
    "range(0,10)- The function iterates through 0 to 9  (excludes upper limit)\n",
    "\n",
    "range (0,10,1)- The function iterates through 0 to 9 with stepsize of one. \n",
    "\n",
    "All three are same"
   ]
  },
  {
   "cell_type": "raw",
   "id": "6ea8edbe",
   "metadata": {},
   "source": [
    "12. Write a short program that prints the numbers 1 to 10 using a for loop. Then write an equivalent\n",
    "program that prints the numbers 1 to 10 using a while loop.\n",
    "\n",
    "for i in range(1,11,1):\n",
    "    print(i)\n",
    "-------------------------------------   \n",
    "i = 1\n",
    "while i <= 10:\n",
    "    print (i)\n",
    "    i = i+1\n",
    "    \n"
   ]
  },
  {
   "cell_type": "raw",
   "id": "76dcd248",
   "metadata": {},
   "source": [
    "13. If you had a function named bacon() inside a module named spam, how would you call it after\n",
    "importing spam?\n",
    "\n",
    "import spam as sp\n",
    "sp.bacon()"
   ]
  },
  {
   "cell_type": "markdown",
   "id": "9273ab71",
   "metadata": {},
   "source": [
    "# ROUGH WORK"
   ]
  },
  {
   "cell_type": "code",
   "execution_count": 4,
   "id": "1ebb77e1",
   "metadata": {},
   "outputs": [
    {
     "data": {
      "text/plain": [
       "False"
      ]
     },
     "execution_count": 4,
     "metadata": {},
     "output_type": "execute_result"
    }
   ],
   "source": [
    "not ((5 > 4) or (3 == 5))  \n",
    "\n"
   ]
  },
  {
   "cell_type": "code",
   "execution_count": 7,
   "id": "6d4c393e",
   "metadata": {},
   "outputs": [
    {
     "name": "stdout",
     "output_type": "stream",
     "text": [
      "[1, 2, 3]\n"
     ]
    }
   ],
   "source": [
    "l = [1,2,3,0,4,5,6]\n",
    "nl = []\n",
    "for i in l:\n",
    "    if i == 0:\n",
    "        break\n",
    "    else:\n",
    "        nl.append(i)\n",
    "    \n",
    "print (nl)    "
   ]
  },
  {
   "cell_type": "code",
   "execution_count": 9,
   "id": "ae292589",
   "metadata": {},
   "outputs": [
    {
     "name": "stdout",
     "output_type": "stream",
     "text": [
      "[1, 2, 3, 4, 5, 6]\n"
     ]
    }
   ],
   "source": [
    "l = [1,2,3,0,4,5,6]\n",
    "nl = []\n",
    "for i in l:\n",
    "    if i == 0:\n",
    "        continue\n",
    "    else:\n",
    "        nl.append(i)\n",
    "\n",
    "print(nl)"
   ]
  },
  {
   "cell_type": "code",
   "execution_count": 11,
   "id": "6e78f67c",
   "metadata": {},
   "outputs": [
    {
     "name": "stdout",
     "output_type": "stream",
     "text": [
      "0\n",
      "1\n",
      "2\n",
      "3\n",
      "4\n",
      "5\n",
      "6\n",
      "7\n",
      "8\n",
      "9\n"
     ]
    }
   ],
   "source": [
    "for i in range(10):\n",
    "    print(i)"
   ]
  },
  {
   "cell_type": "code",
   "execution_count": 12,
   "id": "519ef8a2",
   "metadata": {},
   "outputs": [
    {
     "name": "stdout",
     "output_type": "stream",
     "text": [
      "0\n",
      "1\n",
      "2\n",
      "3\n",
      "4\n",
      "5\n",
      "6\n",
      "7\n",
      "8\n",
      "9\n"
     ]
    }
   ],
   "source": [
    "for i in range(0,10):\n",
    "    print(i)"
   ]
  },
  {
   "cell_type": "code",
   "execution_count": 17,
   "id": "eec4b795",
   "metadata": {},
   "outputs": [
    {
     "name": "stdout",
     "output_type": "stream",
     "text": [
      "1\n",
      "2\n",
      "3\n",
      "4\n",
      "5\n",
      "6\n",
      "7\n",
      "8\n",
      "9\n",
      "10\n"
     ]
    }
   ],
   "source": [
    "for i in range(1,11,1):\n",
    "    print(i)"
   ]
  },
  {
   "cell_type": "code",
   "execution_count": 24,
   "id": "3b3bdf1a",
   "metadata": {},
   "outputs": [
    {
     "name": "stdout",
     "output_type": "stream",
     "text": [
      "1\n",
      "2\n",
      "3\n",
      "4\n",
      "5\n",
      "6\n",
      "7\n",
      "8\n",
      "9\n",
      "10\n"
     ]
    }
   ],
   "source": [
    "i = 1\n",
    "\n",
    "while i <= 10:\n",
    "    print (i)\n",
    "    i = i+1"
   ]
  },
  {
   "cell_type": "code",
   "execution_count": 20,
   "id": "f5f88d87",
   "metadata": {},
   "outputs": [
    {
     "data": {
      "text/plain": [
       "7"
      ]
     },
     "execution_count": 20,
     "metadata": {},
     "output_type": "execute_result"
    }
   ],
   "source": [
    "3+4"
   ]
  },
  {
   "cell_type": "code",
   "execution_count": null,
   "id": "6348f138",
   "metadata": {},
   "outputs": [],
   "source": []
  }
 ],
 "metadata": {
  "kernelspec": {
   "display_name": "Python 3 (ipykernel)",
   "language": "python",
   "name": "python3"
  },
  "language_info": {
   "codemirror_mode": {
    "name": "ipython",
    "version": 3
   },
   "file_extension": ".py",
   "mimetype": "text/x-python",
   "name": "python",
   "nbconvert_exporter": "python",
   "pygments_lexer": "ipython3",
   "version": "3.9.12"
  }
 },
 "nbformat": 4,
 "nbformat_minor": 5
}
