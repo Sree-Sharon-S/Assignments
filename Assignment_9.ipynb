{
 "cells": [
  {
   "cell_type": "markdown",
   "id": "27af8ec4",
   "metadata": {},
   "source": [
    "# ASSIGNMENT 9"
   ]
  },
  {
   "cell_type": "markdown",
   "id": "1561c7c5",
   "metadata": {},
   "source": [
    "### 1) To what does a relative path refer?\n"
   ]
  },
  {
   "cell_type": "markdown",
   "id": "c0acc7f8",
   "metadata": {},
   "source": [
    "The path of the location of the file relative to the current working directory.\n"
   ]
  },
  {
   "cell_type": "markdown",
   "id": "2002c186",
   "metadata": {},
   "source": [
    "### 2) What does an absolute path start with your operating system?\n"
   ]
  },
  {
   "cell_type": "markdown",
   "id": "75cdaa34",
   "metadata": {},
   "source": [
    "Absolute path starts with the root folder"
   ]
  },
  {
   "cell_type": "markdown",
   "id": "109c8998",
   "metadata": {},
   "source": [
    "### 3) What do the functions os.getcwd() and os.chdir() do?\n"
   ]
  },
  {
   "cell_type": "markdown",
   "id": "f51e9e22",
   "metadata": {},
   "source": [
    "os.getcwd() gives us the current working directory\n",
    "\n",
    "os.chdir() can change the current directory to a different one."
   ]
  },
  {
   "cell_type": "code",
   "execution_count": 3,
   "id": "a37ce4c0",
   "metadata": {},
   "outputs": [
    {
     "data": {
      "text/plain": [
       "'C:\\\\Users\\\\Sharon\\\\ASSIGNMENTS'"
      ]
     },
     "execution_count": 3,
     "metadata": {},
     "output_type": "execute_result"
    }
   ],
   "source": [
    "import os\n",
    "os.getcwd()"
   ]
  },
  {
   "cell_type": "markdown",
   "id": "72cec751",
   "metadata": {},
   "source": [
    "### 4) What are the . and .. folders?\n"
   ]
  },
  {
   "cell_type": "markdown",
   "id": "0cb2f683",
   "metadata": {},
   "source": [
    ". is the current directory\n",
    "\n",
    ".. is the parent directory"
   ]
  },
  {
   "cell_type": "markdown",
   "id": "9919ea14",
   "metadata": {},
   "source": [
    "### 5) In C:\\bacon\\eggs\\spam.txt, which part is the dir name, and which part is the base name?\n"
   ]
  },
  {
   "cell_type": "markdown",
   "id": "1f0a0997",
   "metadata": {},
   "source": [
    "C:\\bacon\\eggs\\ is the directory name\n",
    "\n",
    "spam.text is the base name"
   ]
  },
  {
   "cell_type": "markdown",
   "id": "6c7622cd",
   "metadata": {},
   "source": [
    "### 6) What are the three “mode” arguments that can be passed to the open() function?\n"
   ]
  },
  {
   "cell_type": "markdown",
   "id": "24a55ef8",
   "metadata": {},
   "source": [
    "read (r), write (w), append (a)"
   ]
  },
  {
   "cell_type": "markdown",
   "id": "24b2034e",
   "metadata": {},
   "source": [
    "### 7) What happens if an existing file is opened in write mode?\n"
   ]
  },
  {
   "cell_type": "markdown",
   "id": "789a3ff0",
   "metadata": {},
   "source": [
    "The existing file is erased and it will be over written."
   ]
  },
  {
   "cell_type": "markdown",
   "id": "3c474519",
   "metadata": {},
   "source": [
    "### 8) How do you tell the difference between read() and readlines()?\n"
   ]
  },
  {
   "cell_type": "markdown",
   "id": "d7014b6f",
   "metadata": {},
   "source": [
    "read() method gives all the contents as a single string. readlines() will give each line as a separate string"
   ]
  },
  {
   "cell_type": "markdown",
   "id": "50a10788",
   "metadata": {},
   "source": [
    "### 9) What data structure does a shelf value resemble?"
   ]
  },
  {
   "cell_type": "markdown",
   "id": "7b726ad4",
   "metadata": {},
   "source": [
    "It resembles a dictionary value."
   ]
  },
  {
   "cell_type": "code",
   "execution_count": null,
   "id": "f00ed784",
   "metadata": {},
   "outputs": [],
   "source": []
  }
 ],
 "metadata": {
  "kernelspec": {
   "display_name": "Python 3 (ipykernel)",
   "language": "python",
   "name": "python3"
  },
  "language_info": {
   "codemirror_mode": {
    "name": "ipython",
    "version": 3
   },
   "file_extension": ".py",
   "mimetype": "text/x-python",
   "name": "python",
   "nbconvert_exporter": "python",
   "pygments_lexer": "ipython3",
   "version": "3.9.12"
  }
 },
 "nbformat": 4,
 "nbformat_minor": 5
}
