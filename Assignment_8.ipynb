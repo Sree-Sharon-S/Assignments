{
 "cells": [
  {
   "cell_type": "markdown",
   "id": "bd8c995c",
   "metadata": {},
   "source": [
    "# ASSIGNMENT 8"
   ]
  },
  {
   "cell_type": "markdown",
   "id": "de15a89e",
   "metadata": {},
   "source": [
    "### 1) Is the Python Standard Library included with PyInputPlus?\n"
   ]
  },
  {
   "cell_type": "markdown",
   "id": "bfc8f608",
   "metadata": {},
   "source": [
    "No. It must be installed."
   ]
  },
  {
   "cell_type": "markdown",
   "id": "a2d767a9",
   "metadata": {},
   "source": [
    "### 2) Why is PyInputPlus commonly imported with import pyinputplus as pypi?\n"
   ]
  },
  {
   "cell_type": "markdown",
   "id": "2980d925",
   "metadata": {},
   "source": [
    "It is imported for taking proper input values of the desired data type required for coding."
   ]
  },
  {
   "cell_type": "markdown",
   "id": "5a9e3d9b",
   "metadata": {},
   "source": [
    "### 3) How do you distinguish between inputInt() and inputFloat()?\n"
   ]
  },
  {
   "cell_type": "markdown",
   "id": "d6991a15",
   "metadata": {},
   "source": [
    "inputInt() only takes interger values and inputFloat() takes on floating-point values."
   ]
  },
  {
   "cell_type": "code",
   "execution_count": 1,
   "id": "3414e6ad",
   "metadata": {},
   "outputs": [],
   "source": [
    "\n",
    "import pyinputplus as pypi"
   ]
  },
  {
   "cell_type": "code",
   "execution_count": 2,
   "id": "39dce188",
   "metadata": {},
   "outputs": [
    {
     "name": "stdout",
     "output_type": "stream",
     "text": [
      "Enter a number: 9\n"
     ]
    }
   ],
   "source": [
    "a = pypi.inputInt(\"Enter a number: \")"
   ]
  },
  {
   "cell_type": "code",
   "execution_count": 3,
   "id": "875452ee",
   "metadata": {},
   "outputs": [
    {
     "name": "stdout",
     "output_type": "stream",
     "text": [
      "Enter a number: 9.8\n"
     ]
    }
   ],
   "source": [
    "b = pypi.inputFloat(\"Enter a number: \")"
   ]
  },
  {
   "cell_type": "markdown",
   "id": "621bd162",
   "metadata": {},
   "source": [
    "### 4) Using PyInputPlus, how do you ensure that the user enters a whole number between 0 and 99?\n"
   ]
  },
  {
   "cell_type": "code",
   "execution_count": 4,
   "id": "cd3737b9",
   "metadata": {},
   "outputs": [
    {
     "name": "stdout",
     "output_type": "stream",
     "text": [
      "7\n"
     ]
    }
   ],
   "source": [
    "c = pypi.inputInt(min= 0, max=99)"
   ]
  },
  {
   "cell_type": "markdown",
   "id": "b524f8d9",
   "metadata": {},
   "source": [
    "### 5) What is transferred to the keyword arguments allowRegexes and blockRegexes?\n"
   ]
  },
  {
   "cell_type": "markdown",
   "id": "6ce76533",
   "metadata": {},
   "source": [
    "allowRegexes and blockRegexes take in a list of strings that can be accepted/ not accepted as an input."
   ]
  },
  {
   "cell_type": "code",
   "execution_count": 1,
   "id": "6bda294f",
   "metadata": {},
   "outputs": [],
   "source": [
    "import pyinputplus as pypi\n"
   ]
  },
  {
   "cell_type": "code",
   "execution_count": 2,
   "id": "952ae42d",
   "metadata": {},
   "outputs": [
    {
     "name": "stdout",
     "output_type": "stream",
     "text": [
      "deaf\n",
      "'deaf' is not a number.\n",
      "x\n"
     ]
    }
   ],
   "source": [
    "s = pypi.inputNum(allowRegexes=[r'(z|v|x|i)',r'zero'])"
   ]
  },
  {
   "cell_type": "markdown",
   "id": "25183f17",
   "metadata": {},
   "source": [
    "### 6) If a blank input is entered three times, what does inputStr(limit=3) do?\n"
   ]
  },
  {
   "cell_type": "markdown",
   "id": "f80753b1",
   "metadata": {},
   "source": [
    " If a blank input is entered three times the program comes out of error exception block and it crashes."
   ]
  },
  {
   "cell_type": "code",
   "execution_count": 5,
   "id": "c3a43570",
   "metadata": {},
   "outputs": [
    {
     "name": "stdout",
     "output_type": "stream",
     "text": [
      "s\n"
     ]
    }
   ],
   "source": [
    "y = pypi.inputStr(limit=5)"
   ]
  },
  {
   "cell_type": "markdown",
   "id": "028dfb4d",
   "metadata": {},
   "source": [
    "### 7) If blank input is entered three times, what does inputStr(limit=3, default='hello') do?"
   ]
  },
  {
   "cell_type": "markdown",
   "id": "3f60bf4b",
   "metadata": {},
   "source": [
    "If blank input is entered three times, the input will automatically become 'hello'"
   ]
  },
  {
   "cell_type": "code",
   "execution_count": 7,
   "id": "df2e614d",
   "metadata": {},
   "outputs": [
    {
     "name": "stdout",
     "output_type": "stream",
     "text": [
      "\n",
      "Blank values are not allowed.\n",
      "\n",
      "Blank values are not allowed.\n",
      "\n",
      "Blank values are not allowed.\n"
     ]
    }
   ],
   "source": [
    "b = pypi.inputStr(limit=3,default='hello')"
   ]
  },
  {
   "cell_type": "code",
   "execution_count": 8,
   "id": "c2e0343f",
   "metadata": {},
   "outputs": [
    {
     "data": {
      "text/plain": [
       "'hello'"
      ]
     },
     "execution_count": 8,
     "metadata": {},
     "output_type": "execute_result"
    }
   ],
   "source": [
    "b"
   ]
  }
 ],
 "metadata": {
  "kernelspec": {
   "display_name": "Python 3 (ipykernel)",
   "language": "python",
   "name": "python3"
  },
  "language_info": {
   "codemirror_mode": {
    "name": "ipython",
    "version": 3
   },
   "file_extension": ".py",
   "mimetype": "text/x-python",
   "name": "python",
   "nbconvert_exporter": "python",
   "pygments_lexer": "ipython3",
   "version": "3.9.12"
  }
 },
 "nbformat": 4,
 "nbformat_minor": 5
}
